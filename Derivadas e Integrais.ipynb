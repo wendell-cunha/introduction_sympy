{
 "cells": [
  {
   "cell_type": "markdown",
   "id": "a9545840",
   "metadata": {},
   "source": [
    "#Introduction to SymPy"
   ]
  },
  {
   "cell_type": "code",
   "execution_count": 3,
   "id": "31d8270a",
   "metadata": {},
   "outputs": [],
   "source": [
    "from sympy import *\n",
    "x, y, z = symbols('x y z')\n",
    "init_printing(use_unicode=True)"
   ]
  },
  {
   "cell_type": "code",
   "execution_count": 4,
   "id": "27c4b656",
   "metadata": {},
   "outputs": [
    {
     "data": {
      "image/png": "[encoded data removed]",
      "text/latex": [
       "$\\displaystyle - e^{x} \\sin{\\left(e^{x} \\right)}$"
      ],
      "text/plain": [
       "  x    ⎛ x⎞\n",
       "-ℯ ⋅sin⎝ℯ ⎠"
      ]
     },
     "execution_count": 4,
     "metadata": {},
     "output_type": "execute_result"
    }
   ],
   "source": [
    "diff(cos(exp(x)), x)"
   ]
  },
  {
   "cell_type": "code",
   "execution_count": 6,
   "id": "3ca00afc",
   "metadata": {},
   "outputs": [
    {
     "data": {
      "image/png": "[encoded data removed]",
      "text/latex": [
       "$\\displaystyle 4 x \\left(2 x^{2} e^{2 x^{2}} \\sin{\\left(e^{x^{2}} \\right)} - 6 x^{2} e^{x^{2}} \\cos{\\left(e^{x^{2}} \\right)} - 2 x^{2} \\sin{\\left(e^{x^{2}} \\right)} - 3 e^{x^{2}} \\cos{\\left(e^{x^{2}} \\right)} - 3 \\sin{\\left(e^{x^{2}} \\right)}\\right) e^{x^{2}}$"
      ],
      "text/plain": [
       "    ⎛         2    ⎛ ⎛ 2⎞⎞         ⎛ 2⎞    ⎛ ⎛ 2⎞⎞           ⎛ ⎛ 2⎞⎞      ⎛ 2⎞\n",
       "    ⎜   2  2⋅x     ⎜ ⎝x ⎠⎟      2  ⎝x ⎠    ⎜ ⎝x ⎠⎟      2    ⎜ ⎝x ⎠⎟      ⎝x ⎠\n",
       "4⋅x⋅⎝2⋅x ⋅ℯ    ⋅sin⎝ℯ    ⎠ - 6⋅x ⋅ℯ    ⋅cos⎝ℯ    ⎠ - 2⋅x ⋅sin⎝ℯ    ⎠ - 3⋅ℯ    \n",
       "\n",
       "    ⎛ ⎛ 2⎞⎞        ⎛ ⎛ 2⎞⎞⎞  ⎛ 2⎞\n",
       "    ⎜ ⎝x ⎠⎟        ⎜ ⎝x ⎠⎟⎟  ⎝x ⎠\n",
       "⋅cos⎝ℯ    ⎠ - 3⋅sin⎝ℯ    ⎠⎠⋅ℯ    "
      ]
     },
     "execution_count": 6,
     "metadata": {},
     "output_type": "execute_result"
    }
   ],
   "source": [
    "diff(cos(exp(x**2)),x ,x,x)"
   ]
  },
  {
   "cell_type": "markdown",
   "id": "62086005",
   "metadata": {},
   "source": [
    "Podemos também fazer derivadas parciais"
   ]
  },
  {
   "cell_type": "code",
   "execution_count": 9,
   "id": "129f5a68",
   "metadata": {},
   "outputs": [
    {
     "data": {
      "image/png": "[encoded data removed]",
      "text/latex": [
       "$\\displaystyle - y^{4} \\left(\\log{\\left(e^{x y^{2}} \\right)} \\cos{\\left(z \\right)} + 2\\right) \\left(e^{x y^{2}}\\right)^{\\cos{\\left(z \\right)}} \\sin{\\left(z \\right)} \\cos{\\left(z \\right)}$"
      ],
      "text/plain": [
       "                                   cos(z)              \n",
       "    ⎛   ⎛    2⎞           ⎞ ⎛    2⎞                    \n",
       "  4 ⎜   ⎜ x⋅y ⎟           ⎟ ⎜ x⋅y ⎟                    \n",
       "-y ⋅⎝log⎝ℯ    ⎠⋅cos(z) + 2⎠⋅⎝ℯ    ⎠      ⋅sin(z)⋅cos(z)"
      ]
     },
     "execution_count": 9,
     "metadata": {},
     "output_type": "execute_result"
    }
   ],
   "source": [
    "f = exp(x*(y)**2)**cos(z)\n",
    "diff(f, z, x, x)"
   ]
  },
  {
   "cell_type": "markdown",
   "id": "fe62efc9",
   "metadata": {},
   "source": [
    "Também é possível fazer integrais"
   ]
  },
  {
   "cell_type": "code",
   "execution_count": 10,
   "id": "127f24e1",
   "metadata": {},
   "outputs": [
    {
     "data": {
      "image/png": "[encoded data removed]",
      "text/latex": [
       "$\\displaystyle \\pi$"
      ],
      "text/plain": [
       "π"
      ]
     },
     "execution_count": 10,
     "metadata": {},
     "output_type": "execute_result"
    }
   ],
   "source": [
    " integrate(exp(-x**2 - y**2), (x, -oo, oo), (y, -oo, oo))"
   ]
  },
  {
   "cell_type": "code",
   "execution_count": 16,
   "id": "9ba31148",
   "metadata": {},
   "outputs": [
    {
     "data": {
      "image/png": "[encoded data removed]",
      "text/latex": [
       "$\\displaystyle \\int e^{x} \\cos{\\left(x^{2} \\right)}\\, dx$"
      ],
      "text/plain": [
       "⌠              \n",
       "⎮  x    ⎛ 2⎞   \n",
       "⎮ ℯ ⋅cos⎝x ⎠ dx\n",
       "⌡              "
      ]
     },
     "execution_count": 16,
     "metadata": {},
     "output_type": "execute_result"
    }
   ],
   "source": [
    " integrate(exp(x)*cos(x**2) ,x)"
   ]
  },
  {
   "cell_type": "code",
   "execution_count": 17,
   "id": "ba7c85af",
   "metadata": {},
   "outputs": [
    {
     "data": {
      "image/png": "[encoded data removed]",
      "text/latex": [
       "$\\displaystyle \\int x e^{x} \\cos{\\left(x^{2} \\right)}\\, dx$"
      ],
      "text/plain": [
       "⌠                \n",
       "⎮    x    ⎛ 2⎞   \n",
       "⎮ x⋅ℯ ⋅cos⎝x ⎠ dx\n",
       "⌡                "
      ]
     },
     "execution_count": 17,
     "metadata": {},
     "output_type": "execute_result"
    }
   ],
   "source": [
    " integrate(exp(x)*cos(x**2)*x ,x)"
   ]
  },
  {
   "cell_type": "code",
   "execution_count": 18,
   "id": "2270407d",
   "metadata": {},
   "outputs": [],
   "source": [
    "integ = Integral(x**y*exp(-x), (x, 0, oo))"
   ]
  },
  {
   "cell_type": "code",
   "execution_count": 9,
   "id": "a0fa353d",
   "metadata": {},
   "outputs": [],
   "source": [
    "from sympy import *\n",
    "x, y, z = symbols('x y z')\n",
    "init_printing(use_unicode=True)"
   ]
  },
  {
   "cell_type": "code",
   "execution_count": 12,
   "id": "07d9d284",
   "metadata": {},
   "outputs": [
    {
     "data": {
      "image/png": "[encoded data removed]",
      "text/latex": [
       "$\\displaystyle -3.4247448287917 \\cdot 10^{33} + 2.50886424526615 \\cdot 10^{35} \\left(0.117647058823529 x - 1\\right)^{2} + 1.22504708608342 \\cdot 10^{37} \\left(0.117647058823529 x - 1\\right)^{3} + 4.5161153193366 \\cdot 10^{38} \\left(0.117647058823529 x - 1\\right)^{4} + 1.34056118807609 \\cdot 10^{40} \\left(0.117647058823529 x - 1\\right)^{5} + 4.05718899578111 \\cdot 10^{32} x + O\\left(377149.515625 \\left(0.117647058823529 x - 1\\right)^{6}; x\\rightarrow 8.5\\right)$"
      ],
      "text/plain": [
       "                                                                     2        \n",
       "-3.4247448287917e+33 + 2.50886424526615e+35⋅(0.117647058823529⋅x - 1)  + 1.225\n",
       "\n",
       "                                         3                                    \n",
       "04708608342e+37⋅(0.117647058823529⋅x - 1)  + 4.5161153193366e+38⋅(0.1176470588\n",
       "\n",
       "            4                                                 5               \n",
       "23529⋅x - 1)  + 1.34056118807609e+40⋅(0.117647058823529⋅x - 1)  + 4.0571889957\n",
       "\n",
       "              ⎛                                       6         ⎞\n",
       "8111e+32⋅x + O⎝377149.515625⋅(0.117647058823529⋅x - 1) ; x → 8.5⎠"
      ]
     },
     "execution_count": 12,
     "metadata": {},
     "output_type": "execute_result"
    }
   ],
   "source": [
    "exp(x**2).series(x, x0=8.5)"
   ]
  },
  {
   "cell_type": "code",
   "execution_count": null,
   "id": "b350f858",
   "metadata": {},
   "outputs": [],
   "source": []
  }
 ],
 "metadata": {
  "kernelspec": {
   "display_name": "Python 3",
   "language": "python",
   "name": "python3"
  },
  "language_info": {
   "codemirror_mode": {
    "name": "ipython",
    "version": 3
   },
   "file_extension": ".py",
   "mimetype": "text/x-python",
   "name": "python",
   "nbconvert_exporter": "python",
   "pygments_lexer": "ipython3",
   "version": "3.8.8"
  }
 },
 "nbformat": 4,
 "nbformat_minor": 5
}
