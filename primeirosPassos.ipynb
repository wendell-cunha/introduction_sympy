{
 "cells": [
  {
   "cell_type": "code",
   "execution_count": 1,
   "id": "2d4cc382",
   "metadata": {},
   "outputs": [],
   "source": [
    "import sympy as smp\n",
    "from sympy import *"
   ]
  },
  {
   "cell_type": "code",
   "execution_count": 2,
   "id": "6cbc6b7a",
   "metadata": {},
   "outputs": [],
   "source": [
    "x = smp.symbols('x','y')"
   ]
  },
  {
   "cell_type": "code",
   "execution_count": 3,
   "id": "98fac178",
   "metadata": {},
   "outputs": [
    {
     "data": {
      "text/latex": [
       "$\\displaystyle x^{2}$"
      ],
      "text/plain": [
       "x**2"
      ]
     },
     "execution_count": 3,
     "metadata": {},
     "output_type": "execute_result"
    }
   ],
   "source": [
    "x**2"
   ]
  },
  {
   "cell_type": "code",
   "execution_count": 4,
   "id": "72b42dbd",
   "metadata": {},
   "outputs": [
    {
     "data": {
      "text/latex": [
       "$\\displaystyle e^{x}$"
      ],
      "text/plain": [
       "exp(x)"
      ]
     },
     "execution_count": 4,
     "metadata": {},
     "output_type": "execute_result"
    }
   ],
   "source": [
    "smp.exp(x)"
   ]
  },
  {
   "cell_type": "code",
   "execution_count": 6,
   "id": "19db95cb",
   "metadata": {},
   "outputs": [
    {
     "data": {
      "text/latex": [
       "$\\displaystyle \\frac{\\log{\\left(x \\right)}}{\\log{\\left(10 \\right)}}$"
      ],
      "text/plain": [
       "log(x)/log(10)"
      ]
     },
     "execution_count": 6,
     "metadata": {},
     "output_type": "execute_result"
    }
   ],
   "source": [
    "smp.log(x,10)"
   ]
  },
  {
   "cell_type": "code",
   "execution_count": 11,
   "id": "c8da78d1",
   "metadata": {},
   "outputs": [
    {
     "data": {
      "text/latex": [
       "$\\displaystyle \\sin{\\left(\\frac{x}{2} + \\sin{\\left(x \\right)} \\right)}$"
      ],
      "text/plain": [
       "sin(x/2 + sin(x))"
      ]
     },
     "execution_count": 11,
     "metadata": {},
     "output_type": "execute_result"
    }
   ],
   "source": [
    "smp.sin(x/2 + smp.sin(x))"
   ]
  },
  {
   "cell_type": "code",
   "execution_count": 15,
   "id": "a01253fc",
   "metadata": {},
   "outputs": [
    {
     "data": {
      "text/latex": [
       "$\\displaystyle 1$"
      ],
      "text/plain": [
       "1"
      ]
     },
     "execution_count": 15,
     "metadata": {},
     "output_type": "execute_result"
    }
   ],
   "source": [
    "smp.limit(smp.sin(x/2 + smp.sin(x)), x, smp.pi)"
   ]
  },
  {
   "cell_type": "code",
   "execution_count": 16,
   "id": "2fb0f95e",
   "metadata": {},
   "outputs": [
    {
     "data": {
      "text/latex": [
       "$\\displaystyle \\frac{\\cos{\\left(x \\right)} - 1}{x}$"
      ],
      "text/plain": [
       "(cos(x) - 1)/x"
      ]
     },
     "execution_count": 16,
     "metadata": {},
     "output_type": "execute_result"
    }
   ],
   "source": [
    "(smp.cos(x)-1)/x"
   ]
  },
  {
   "cell_type": "code",
   "execution_count": 19,
   "id": "db21e439",
   "metadata": {},
   "outputs": [
    {
     "data": {
      "text/latex": [
       "$\\displaystyle 0$"
      ],
      "text/plain": [
       "0"
      ]
     },
     "execution_count": 19,
     "metadata": {},
     "output_type": "execute_result"
    }
   ],
   "source": [
    "smp.limit((smp.cos(x)-1)/x, x,smp.oo)"
   ]
  },
  {
   "cell_type": "code",
   "execution_count": 24,
   "id": "1f36d130",
   "metadata": {},
   "outputs": [
    {
     "data": {
      "text/latex": [
       "$\\displaystyle \\log{\\left(x \\right)}$"
      ],
      "text/plain": [
       "log(x)"
      ]
     },
     "execution_count": 24,
     "metadata": {},
     "output_type": "execute_result"
    }
   ],
   "source": [
    "integrate(1/x, x)"
   ]
  },
  {
   "cell_type": "code",
   "execution_count": 25,
   "id": "cfd99674",
   "metadata": {},
   "outputs": [
    {
     "name": "stdout",
     "output_type": "stream",
     "text": [
      "Collecting package metadata (current_repodata.json): ...working... done\n",
      "Note: you may need to restart the kernel to use updated packages.\n",
      "Solving environment: ...working... done\n",
      "\n",
      "## Package Plan ##\n",
      "\n",
      "  environment location: C:\\Users\\Wendell\\anaconda3\n",
      "\n",
      "  added / updated specs:\n",
      "    - mpmath\n",
      "\n",
      "\n",
      "The following packages will be downloaded:\n",
      "\n",
      "    package                    |            build\n",
      "    ---------------------------|-----------------\n",
      "    conda-4.11.0               |   py38haa95532_0        14.4 MB\n",
      "    ------------------------------------------------------------\n",
      "                                           Total:        14.4 MB\n",
      "\n",
      "The following packages will be UPDATED:\n",
      "\n",
      "  conda                               4.10.1-py38haa95532_1 --> 4.11.0-py38haa95532_0\n",
      "\n",
      "\n",
      "\n",
      "Downloading and Extracting Packages\n",
      "\n",
      "conda-4.11.0         | 14.4 MB   |            |   0% \n",
      "conda-4.11.0         | 14.4 MB   |            |   0% \n",
      "conda-4.11.0         | 14.4 MB   |            |   0% \n",
      "conda-4.11.0         | 14.4 MB   |            |   0% \n",
      "conda-4.11.0         | 14.4 MB   | 1          |   1% \n",
      "conda-4.11.0         | 14.4 MB   | 2          |   3% \n",
      "conda-4.11.0         | 14.4 MB   | 3          |   4% \n",
      "conda-4.11.0         | 14.4 MB   | 4          |   5% \n",
      "conda-4.11.0         | 14.4 MB   | 5          |   5% \n",
      "conda-4.11.0         | 14.4 MB   | 5          |   6% \n",
      "conda-4.11.0         | 14.4 MB   | 6          |   6% \n",
      "conda-4.11.0         | 14.4 MB   | 6          |   7% \n",
      "conda-4.11.0         | 14.4 MB   | 9          |  10% \n",
      "conda-4.11.0         | 14.4 MB   | #          |  10% \n",
      "conda-4.11.0         | 14.4 MB   | #          |  11% \n",
      "conda-4.11.0         | 14.4 MB   | #1         |  11% \n",
      "conda-4.11.0         | 14.4 MB   | #3         |  14% \n",
      "conda-4.11.0         | 14.4 MB   | #4         |  15% \n",
      "conda-4.11.0         | 14.4 MB   | #5         |  16% \n",
      "conda-4.11.0         | 14.4 MB   | #6         |  17% \n",
      "conda-4.11.0         | 14.4 MB   | #7         |  18% \n",
      "conda-4.11.0         | 14.4 MB   | #9         |  19% \n",
      "conda-4.11.0         | 14.4 MB   | ##         |  21% \n",
      "conda-4.11.0         | 14.4 MB   | ##1        |  22% \n",
      "conda-4.11.0         | 14.4 MB   | ##3        |  23% \n",
      "conda-4.11.0         | 14.4 MB   | ##4        |  24% \n",
      "conda-4.11.0         | 14.4 MB   | ##5        |  26% \n",
      "conda-4.11.0         | 14.4 MB   | ##7        |  27% \n",
      "conda-4.11.0         | 14.4 MB   | ##8        |  29% \n",
      "conda-4.11.0         | 14.4 MB   | ##9        |  30% \n",
      "conda-4.11.0         | 14.4 MB   | ###1       |  31% \n",
      "conda-4.11.0         | 14.4 MB   | ###2       |  33% \n",
      "conda-4.11.0         | 14.4 MB   | ###3       |  34% \n",
      "conda-4.11.0         | 14.4 MB   | ###4       |  35% \n",
      "conda-4.11.0         | 14.4 MB   | ###8       |  38% \n",
      "conda-4.11.0         | 14.4 MB   | ###9       |  39% \n",
      "conda-4.11.0         | 14.4 MB   | ####       |  41% \n",
      "conda-4.11.0         | 14.4 MB   | ####1      |  42% \n",
      "conda-4.11.0         | 14.4 MB   | ####2      |  43% \n",
      "conda-4.11.0         | 14.4 MB   | ####4      |  44% \n",
      "conda-4.11.0         | 14.4 MB   | ####5      |  45% \n",
      "conda-4.11.0         | 14.4 MB   | ####6      |  46% \n",
      "conda-4.11.0         | 14.4 MB   | ####7      |  47% \n",
      "conda-4.11.0         | 14.4 MB   | ####9      |  49% \n",
      "conda-4.11.0         | 14.4 MB   | #####      |  50% \n",
      "conda-4.11.0         | 14.4 MB   | #####1     |  51% \n",
      "conda-4.11.0         | 14.4 MB   | #####2     |  52% \n",
      "conda-4.11.0         | 14.4 MB   | #####3     |  53% \n",
      "conda-4.11.0         | 14.4 MB   | #####3     |  54% \n",
      "conda-4.11.0         | 14.4 MB   | #####4     |  55% \n",
      "conda-4.11.0         | 14.4 MB   | #####5     |  55% \n",
      "conda-4.11.0         | 14.4 MB   | #####6     |  56% \n",
      "conda-4.11.0         | 14.4 MB   | #####7     |  57% \n",
      "conda-4.11.0         | 14.4 MB   | #####8     |  59% \n",
      "conda-4.11.0         | 14.4 MB   | ######     |  60% \n",
      "conda-4.11.0         | 14.4 MB   | ######1    |  62% \n",
      "conda-4.11.0         | 14.4 MB   | ######3    |  63% \n",
      "conda-4.11.0         | 14.4 MB   | ######4    |  64% \n",
      "conda-4.11.0         | 14.4 MB   | ######6    |  66% \n",
      "conda-4.11.0         | 14.4 MB   | ######7    |  68% \n",
      "conda-4.11.0         | 14.4 MB   | ######9    |  69% \n",
      "conda-4.11.0         | 14.4 MB   | #######    |  71% \n",
      "conda-4.11.0         | 14.4 MB   | #######2   |  72% \n",
      "conda-4.11.0         | 14.4 MB   | #######3   |  74% \n",
      "conda-4.11.0         | 14.4 MB   | #######4   |  75% \n",
      "conda-4.11.0         | 14.4 MB   | #######5   |  76% \n",
      "conda-4.11.0         | 14.4 MB   | #######6   |  77% \n",
      "conda-4.11.0         | 14.4 MB   | #######8   |  78% \n",
      "conda-4.11.0         | 14.4 MB   | #######9   |  80% \n",
      "conda-4.11.0         | 14.4 MB   | ########   |  81% \n",
      "conda-4.11.0         | 14.4 MB   | ########2  |  82% \n",
      "conda-4.11.0         | 14.4 MB   | ########3  |  83% \n",
      "conda-4.11.0         | 14.4 MB   | ########4  |  84% \n",
      "conda-4.11.0         | 14.4 MB   | ########5  |  85% \n",
      "conda-4.11.0         | 14.4 MB   | ########7  |  87% \n",
      "conda-4.11.0         | 14.4 MB   | ########8  |  89% \n",
      "conda-4.11.0         | 14.4 MB   | ########9  |  90% \n",
      "conda-4.11.0         | 14.4 MB   | #########1 |  92% \n",
      "conda-4.11.0         | 14.4 MB   | #########2 |  93% \n",
      "conda-4.11.0         | 14.4 MB   | #########4 |  94% \n",
      "conda-4.11.0         | 14.4 MB   | #########5 |  96% \n",
      "conda-4.11.0         | 14.4 MB   | #########7 |  97% \n",
      "conda-4.11.0         | 14.4 MB   | #########8 |  99% \n",
      "conda-4.11.0         | 14.4 MB   | ########## | 100% \n",
      "conda-4.11.0         | 14.4 MB   | ########## | 100% \n",
      "Preparing transaction: ...working... done\n",
      "Verifying transaction: ...working... done\n",
      "Executing transaction: ...working... done\n",
      "\n"
     ]
    }
   ],
   "source": [
    "conda install mpmath"
   ]
  },
  {
   "cell_type": "code",
   "execution_count": null,
   "id": "224aeb60",
   "metadata": {},
   "outputs": [],
   "source": []
  }
 ],
 "metadata": {
  "kernelspec": {
   "display_name": "Python 3",
   "language": "python",
   "name": "python3"
  },
  "language_info": {
   "codemirror_mode": {
    "name": "ipython",
    "version": 3
   },
   "file_extension": ".py",
   "mimetype": "text/x-python",
   "name": "python",
   "nbconvert_exporter": "python",
   "pygments_lexer": "ipython3",
   "version": "3.8.8"
  }
 },
 "nbformat": 4,
 "nbformat_minor": 5
}
